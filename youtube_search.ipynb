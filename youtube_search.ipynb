{
  "cells": [
    {
      "cell_type": "markdown",
      "source": [
        "## Keyword search for videos and getting their metadata\n",
        "\n",
        "\n"
      ],
      "metadata": {
        "id": "H7mN6qzMj2Ou"
      }
    },
    {
      "cell_type": "code",
      "execution_count": null,
      "metadata": {
        "id": "JpQrIyT4TIsU"
      },
      "outputs": [],
      "source": [
        "!pip install --upgrade google-api-python-client\n",
        "!pip install --upgrade google-auth-oauthlib google-auth-httplib2\n",
        "!pip install isodate\n",
        "\n",
        "import pandas as pd\n",
        "from apiclient.discovery import build\n",
        "from apiclient.errors import HttpError"
      ]
    },
    {
      "cell_type": "code",
      "execution_count": null,
      "metadata": {
        "id": "xET89-XmTIsa"
      },
      "outputs": [],
      "source": [
        "key=\"YouTubeAPI\""
      ]
    },
    {
      "cell_type": "code",
      "execution_count": null,
      "metadata": {
        "id": "g5L6GFqGTIsb"
      },
      "outputs": [],
      "source": [
        "DEVELOPER_KEY = key\n",
        "YOUTUBE_API_SERVICE_NAME = \"youtube\"\n",
        "YOUTUBE_API_VERSION = \"v3\"\n",
        "youtube = build(YOUTUBE_API_SERVICE_NAME, YOUTUBE_API_VERSION,\n",
        "    developerKey=DEVELOPER_KEY)#this is where we build our engine"
      ]
    },
    {
      "cell_type": "code",
      "source": [
        "def youtube_search(q, max_results=50, order=\"relevance\", type=\"video\", language=None, token=None, location=None, location_radius=None, total=200):\n",
        "    \"\"\"Performs a YouTube keyword search with the specified parameters.\"\"\"\n",
        "    search_list = []\n",
        "    iterations = -(-total // max_results)  # Calculate the number of iterations (ceil division)\n",
        "\n",
        "    for _ in range(iterations):\n",
        "        search_response = youtube.search().list(\n",
        "            q=q,\n",
        "            type=type,\n",
        "            pageToken=token,\n",
        "            order=order,\n",
        "            part=\"id,snippet\",\n",
        "            maxResults=max_results,\n",
        "            relevanceLanguage=language,\n",
        "            location=location,\n",
        "            locationRadius=location_radius\n",
        "        ).execute()\n",
        "        search_list.extend(search_response.get(\"items\", []))\n",
        "        print(search_response.get(\"pageInfo\", {}))\n",
        "\n",
        "        # Update the token for the next page or break if no token is available\n",
        "        token = search_response.get(\"nextPageToken\")\n",
        "        if not token:\n",
        "            break\n",
        "\n",
        "    return search_list\n",
        "\n",
        "def search_to_df(test_search):\n",
        "    \"\"\"Transforms a result from a keywords search into a dataframe.\"\"\"\n",
        "    search_list = [\n",
        "        (\n",
        "            post[\"id\"][\"videoId\"],\n",
        "            post[\"snippet\"][\"channelTitle\"],\n",
        "            post[\"snippet\"][\"title\"],\n",
        "            post[\"snippet\"][\"description\"]\n",
        "        )\n",
        "        for post in test_search #Remove nested loop to iterate directly through search results\n",
        "        if isinstance(post, dict) and post.get(\"id\") and isinstance(post.get(\"id\"), dict) and post[\"id\"].get(\"videoId\") #Check if post is a dict, if \"id\" key exists and is a dict, and if \"videoId\" key exists within \"id\"\n",
        "\n",
        "    ]\n",
        "    return pd.DataFrame(search_list, columns=[\"Id\", \"Channel\", \"Title\", \"Description\"])\n",
        "\n",
        "def metaDataExtractor(video_ids):\n",
        "    \"\"\"Takes a list of video IDs as input and returns their metadata.\"\"\"\n",
        "    import isodate  # For parsing duration\n",
        "\n",
        "    video_data = []\n",
        "    for num, video_id in enumerate(video_ids, start=1):\n",
        "        res = youtube.videos().list(id=video_id, part=\"snippet,statistics,content_details\").execute()\n",
        "        video_data.append(res)\n",
        "        print(f\"\\rDownloading metadata for video {num} of {len(video_ids)}. Please wait...\", end=\"\")\n",
        "\n",
        "    metadata_list = []\n",
        "    keys = {\n",
        "        \"Id\": (\"items\", 0, \"id\"),\n",
        "        \"Channel\": (\"items\", 0, \"snippet\", \"channelTitle\"),\n",
        "        \"Date\": (\"items\", 0, \"snippet\", \"publishedAt\"),\n",
        "        \"Time\": (\"items\", 0, \"snippet\", \"publishedAt\"),\n",
        "        \"Title\": (\"items\", 0, \"snippet\", \"title\"),\n",
        "        \"Description\": (\"items\", 0, \"snippet\", \"description\"),\n",
        "        \"Duration\": (\"items\", 0, \"contentDetails\", \"duration\"),\n",
        "        \"Tags\": (\"items\", 0, \"snippet\", \"tags\"),\n",
        "        \"Views\": (\"items\", 0, \"statistics\", \"viewCount\"),\n",
        "        \"Likes\": (\"items\", 0, \"statistics\", \"likeCount\"),\n",
        "        \"Favourite\": (\"items\", 0, \"statistics\", \"favoriteCount\"),\n",
        "        \"Comments\": (\"items\", 0, \"statistics\", \"commentCount\"),\n",
        "    }\n",
        "\n",
        "    for item in video_data:\n",
        "        tempdict = {}\n",
        "        for key, path in keys.items():\n",
        "            try:\n",
        "                value = item\n",
        "                for p in path:\n",
        "                    value = value[p] if isinstance(p, (int, str)) else value\n",
        "                if key == \"Duration\":\n",
        "                    value = isodate.parse_duration(value).seconds\n",
        "                tempdict[key] = value\n",
        "            except (KeyError, IndexError, TypeError):\n",
        "                tempdict[key] = \"\"\n",
        "        # Separate Date and Time from publishedAt\n",
        "        if tempdict.get(\"Date\"):\n",
        "            tempdict[\"Date\"], tempdict[\"Time\"] = tempdict[\"Date\"][:10], tempdict[\"Time\"][11:19]\n",
        "        metadata_list.append(tempdict)\n",
        "\n",
        "    return metadata_list\n",
        "\n",
        "\n",
        "\n",
        "def MetaDownloadDF(video_list):\n",
        "    \"\"\"A function that calls other functions above, and returns a Pandas DataFrame\n",
        "    with metadata for a channel (given as input)\"\"\"\n",
        "    metadict=metaDataExtractor(video_list)\n",
        "    metadf=pd.DataFrame(metadict)\n",
        "    return metadf"
      ],
      "metadata": {
        "id": "sNVGNNkQq0cZ"
      },
      "execution_count": null,
      "outputs": []
    },
    {
      "cell_type": "markdown",
      "source": [
        "# Performing a search"
      ],
      "metadata": {
        "id": "7qTvu7Tb6DLM"
      }
    },
    {
      "cell_type": "code",
      "source": [
        "search_terms=\"بيت المولد\"#exchange for your own"
      ],
      "metadata": {
        "id": "uPyyzJEh6Nn-"
      },
      "execution_count": null,
      "outputs": []
    },
    {
      "cell_type": "code",
      "source": [
        "search=youtube_search(search_terms, total=10000)\n",
        "searchdf=search_to_df(search)\n",
        "searchdf"
      ],
      "metadata": {
        "id": "Ma-fAHLU2G6A"
      },
      "execution_count": null,
      "outputs": []
    },
    {
      "cell_type": "markdown",
      "source": [
        "\n",
        "### Save search results to CSV\n",
        "The code below saves a file that will appear under the folder to the left of here <----- (klick the folder symbol under the key symbol, if not visible.)"
      ],
      "metadata": {
        "id": "CwZeJSHx6w5Q"
      }
    },
    {
      "cell_type": "code",
      "source": [
        "searchdf.to_csv(\"/content/drive/MyDrive/Forskning/Relikprojekt/Youtube/Resultat/\"+search_terms+\".csv\")"
      ],
      "metadata": {
        "id": "Hz4ZNZ3S6vw3"
      },
      "execution_count": null,
      "outputs": []
    },
    {
      "cell_type": "code",
      "source": [
        "from google.colab import drive\n",
        "drive.mount('/content/drive')"
      ],
      "metadata": {
        "id": "1_EES_C2lJZf"
      },
      "execution_count": null,
      "outputs": []
    },
    {
      "cell_type": "markdown",
      "source": [
        "+### Perhaps you want all metadata for all videos in the search results (publication date, channel, views, likes etc etc)\n",
        "Then we first extract all the video ids"
      ],
      "metadata": {
        "id": "6B3BBgDC6_jx"
      }
    },
    {
      "cell_type": "code",
      "source": [
        "video_list=searchdf[\"Id\"].tolist()"
      ],
      "metadata": {
        "id": "zMGv6Gpxq-Qx"
      },
      "execution_count": null,
      "outputs": []
    },
    {
      "cell_type": "markdown",
      "source": [
        "Then we use the MetaDownloadtoDF function from above"
      ],
      "metadata": {
        "id": "7HeNsXIL7uRo"
      }
    },
    {
      "cell_type": "code",
      "source": [
        "metadf=MetaDownloadDF(video_list)\n",
        "metadf"
      ],
      "metadata": {
        "id": "-ksGcw657s5t"
      },
      "execution_count": null,
      "outputs": []
    },
    {
      "cell_type": "markdown",
      "source": [
        "And then we can save the result as a CSV-file."
      ],
      "metadata": {
        "id": "eIOkCZF38Q2H"
      }
    },
    {
      "cell_type": "code",
      "source": [
        "metadf.to_csv(\"searchmetadf.csv\")"
      ],
      "metadata": {
        "id": "wROgsdlK8InA"
      },
      "execution_count": null,
      "outputs": []
    }
  ],
  "metadata": {
    "colab": {
      "collapsed_sections": [
        "vAuSFIROTIsm",
        "9gCBl6f6TIsm",
        "WgYSNhHCTIsm",
        "R2csqvhrTIsn"
      ],
      "provenance": []
    },
    "kernelspec": {
      "display_name": "Python 3 (ipykernel)",
      "language": "python",
      "name": "python3"
    },
    "language_info": {
      "codemirror_mode": {
        "name": "ipython",
        "version": 3
      },
      "file_extension": ".py",
      "mimetype": "text/x-python",
      "name": "python",
      "nbconvert_exporter": "python",
      "pygments_lexer": "ipython3",
      "version": "3.9.7"
    }
  },
  "nbformat": 4,
  "nbformat_minor": 0
}