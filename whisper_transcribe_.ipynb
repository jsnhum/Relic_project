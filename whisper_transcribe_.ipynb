{
  "nbformat": 4,
  "nbformat_minor": 0,
  "metadata": {
    "colab": {
      "provenance": [],
      "gpuType": "T4"
    },
    "kernelspec": {
      "name": "python3",
      "display_name": "Python 3"
    },
    "language_info": {
      "name": "python"
    },
    "accelerator": "GPU"
  },
  "cells": [
    {
      "cell_type": "code",
      "execution_count": null,
      "metadata": {
        "id": "3HKm3UOXndG7"
      },
      "outputs": [],
      "source": [
        "%pip install -U openai-whisper\n",
        "import whisper\n",
        "model = whisper.load_model(\"turbo\")\n"
      ]
    },
    {
      "cell_type": "code",
      "source": [
        "result = model.transcribe(\"link to audiofile\", language=\"ar\")\n"
      ],
      "metadata": {
        "id": "8hZ751IgZZ5l"
      },
      "execution_count": null,
      "outputs": []
    },
    {
      "cell_type": "code",
      "source": [
        "alltext=\"\"\n",
        "for item in result[\"segments\"]:\n",
        "  alltext=alltext+\" [\"+str(item[\"start\"])+\"]\" + item[\"text\"]\n",
        "with open(\"transkribering.txt\", \"w\") as t:\n",
        "  t.write(alltext)"
      ],
      "metadata": {
        "id": "8niiYOx8ZRLS"
      },
      "execution_count": null,
      "outputs": []
    },
    {
      "cell_type": "code",
      "source": [
        "print(alltext)"
      ],
      "metadata": {
        "id": "O2hKh3kUZRKh"
      },
      "execution_count": null,
      "outputs": []
    },
    {
      "cell_type": "code",
      "source": [],
      "metadata": {
        "id": "o50qsROLZInp"
      },
      "execution_count": null,
      "outputs": []
    }
  ]
}