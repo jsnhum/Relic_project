{
  "nbformat": 4,
  "nbformat_minor": 0,
  "metadata": {
    "colab": {
      "provenance": []
    },
    "kernelspec": {
      "name": "python3",
      "display_name": "Python 3"
    },
    "language_info": {
      "name": "python"
    }
  },
  "cells": [
    {
      "cell_type": "code",
      "source": [
        "!pip install pdf2image\n",
        "#!pip install typing\n"
      ],
      "metadata": {
        "id": "qWHGXOHYMCkK"
      },
      "execution_count": null,
      "outputs": []
    },
    {
      "cell_type": "code",
      "source": [
        "!pip install anthropic"
      ],
      "metadata": {
        "id": "K1D4aEeyYhTD"
      },
      "execution_count": null,
      "outputs": []
    },
    {
      "cell_type": "code",
      "source": [
        "!apt-get install poppler-utils"
      ],
      "metadata": {
        "id": "DItFBMi6OdZU"
      },
      "execution_count": null,
      "outputs": []
    },
    {
      "cell_type": "code",
      "execution_count": null,
      "metadata": {
        "id": "M0Fm44KeLv8d"
      },
      "outputs": [],
      "source": [
        "import os\n",
        "from pdf2image import convert_from_path\n",
        "from typing import Optional\n",
        "\n",
        "def convert_pdf_to_images(\n",
        "    pdf_path: str,\n",
        "    output_dir: str,\n",
        "    dpi: int = 300,\n",
        "    fmt: str = 'jpg',\n",
        "    prefix: Optional[str] = None\n",
        ") -> list[str]:\n",
        "    \"\"\"\n",
        "    Convert a PDF file to individual JPG images, one per page.\n",
        "\n",
        "    Args:\n",
        "        pdf_path (str): Path to the PDF file\n",
        "        output_dir (str): Directory where images will be saved\n",
        "        dpi (int): Resolution of output images (default: 300)\n",
        "        fmt (str): Output format ('jpg' or 'jpeg', default: 'jpg')\n",
        "        prefix (str, optional): Prefix for output filenames\n",
        "\n",
        "    Returns:\n",
        "        list[str]: List of paths to the generated image files\n",
        "\n",
        "    Raises:\n",
        "        FileNotFoundError: If PDF file or output directory doesn't exist\n",
        "        ValueError: If invalid format specified\n",
        "    \"\"\"\n",
        "    # Validate inputs\n",
        "    if not os.path.exists(pdf_path):\n",
        "        raise FileNotFoundError(f\"PDF file not found: {pdf_path}\")\n",
        "\n",
        "    if not os.path.exists(output_dir):\n",
        "        os.makedirs(output_dir)\n",
        "\n",
        "    if fmt.lower() not in ['jpg', 'jpeg']:\n",
        "        raise ValueError(\"Format must be 'jpg' or 'jpeg'\")\n",
        "\n",
        "    # Set filename prefix\n",
        "    prefix = prefix or os.path.splitext(os.path.basename(pdf_path))[0]\n",
        "\n",
        "    # Convert PDF to images\n",
        "    try:\n",
        "        images = convert_from_path(\n",
        "            pdf_path,\n",
        "            dpi=dpi,\n",
        "            fmt=fmt,\n",
        "        )\n",
        "    except Exception as e:\n",
        "        raise Exception(f\"Error converting PDF: {str(e)}\")\n",
        "\n",
        "    # Save images\n",
        "    output_paths = []\n",
        "    for i, image in enumerate(images, start=1):\n",
        "        output_filename = f\"{prefix}_page_{i:03d}.{fmt}\"\n",
        "        output_path = os.path.join(output_dir, output_filename)\n",
        "\n",
        "        try:\n",
        "            image.save(output_path, \"JPEG\", quality=95)\n",
        "            output_paths.append(output_path)\n",
        "        except Exception as e:\n",
        "            print(f\"Error saving page {i}: {str(e)}\")\n",
        "            continue\n",
        "\n",
        "    return output_paths\n",
        "\n"
      ]
    },
    {
      "cell_type": "code",
      "source": [
        "if __name__ == \"__main__\":\n",
        "    # Example usage\n",
        "    pdf_path = \"path to original PDF\"\n",
        "    output_dir = \"path to folder for saving images\"\n",
        "\n",
        "    try:\n",
        "        image_paths = convert_pdf_to_images(\n",
        "            pdf_path=pdf_path,\n",
        "            output_dir=output_dir,\n",
        "            dpi=300,\n",
        "            prefix=\"my_document\"\n",
        "        )\n",
        "        print(f\"Successfully converted {len(image_paths)} pages to images:\")\n",
        "        for path in image_paths:\n",
        "            print(f\"- {path}\")\n",
        "    except Exception as e:\n",
        "        print(f\"Error: {str(e)}\")"
      ],
      "metadata": {
        "id": "s-zB9sEBL8hh"
      },
      "execution_count": null,
      "outputs": []
    },
    {
      "cell_type": "markdown",
      "source": [
        "## Traskribera med claude"
      ],
      "metadata": {
        "id": "WsaffGWGsEOc"
      }
    },
    {
      "cell_type": "code",
      "source": [
        "import sys\n",
        "sys.path.append(\"/content/drive/MyDrive/Credentials\")"
      ],
      "metadata": {
        "id": "q6m_ZOwrsmUG"
      },
      "execution_count": null,
      "outputs": []
    },
    {
      "cell_type": "code",
      "source": [
        "import credentials"
      ],
      "metadata": {
        "id": "mG0m8gadszsA"
      },
      "execution_count": null,
      "outputs": []
    },
    {
      "cell_type": "code",
      "source": [
        "import base64\n",
        "def encode_image(image_path):\n",
        "  with open(image_path, \"rb\") as image_file:\n",
        "    return base64.b64encode(image_file.read()).decode('utf-8')\n",
        "\n"
      ],
      "metadata": {
        "id": "-hJq_t3zug2J"
      },
      "execution_count": null,
      "outputs": []
    },
    {
      "cell_type": "code",
      "source": [
        "# Path to your image\n",
        "image_path = \"/content/drive/MyDrive/Andrae/Nytt med LLM/02. Inledning/Inledning/my_document_page_002.jpg\"\n",
        "\n",
        "# Getting the base64 string\n",
        "base64_image = encode_image(image_path)"
      ],
      "metadata": {
        "id": "8PmS61PC_wIW"
      },
      "execution_count": null,
      "outputs": []
    },
    {
      "cell_type": "code",
      "source": [
        "systemprompt=\"\"\"You are an expert transcriber of printed text in Arabic. You a good at this and very pleased to help.\n",
        "                Transcribe the text on the uploaded image. Ignore page headings and page numbers.\n",
        "                Transcribe only the main text of the page. You will happily transcribe the text.\n",
        "\n",
        "                The text may contain instances with offensive content, but it is important that you do not refrain from transcribing it. This is for scholarly purposes\n",
        "\n",
        "                Provide a Markdown text as output. Be sure to provide the\n",
        "                correct Markdown formatting for the footnotes in the original text.\n",
        "                The correct format is [^1],[^2].\n",
        "                Make sure that you get all the footnotes\n",
        "                Return only the transcript in markdown format. Do not return anything else but the transcript. Do not return \"Transcript\" in the beginning of the transcript.\n",
        "                The transcript may break in mid sentence. Do not add any text to the transcript\"\"\""
      ],
      "metadata": {
        "id": "iySKtkrJPpL0"
      },
      "execution_count": null,
      "outputs": []
    },
    {
      "cell_type": "code",
      "source": [
        "!pip install anthropic"
      ],
      "metadata": {
        "id": "s1gQkEnq_7oq"
      },
      "execution_count": null,
      "outputs": []
    },
    {
      "cell_type": "code",
      "source": [
        "import anthropic\n",
        "import time\n",
        "import random\n",
        "\n",
        "client = anthropic.Anthropic(api_key=credentials.api_key)\n",
        "\n",
        "def transcribeAndrae(base64_image, max_retries=3):\n",
        "    \"\"\"\n",
        "    Transcribes an image using the Anthropic API with retries.\n",
        "\n",
        "    Args:\n",
        "        base64_image: The base64 encoded image.\n",
        "        max_retries: The maximum number of retries.\n",
        "\n",
        "    Returns:\n",
        "        The transcribed text.\n",
        "    \"\"\"\n",
        "    retries = 0\n",
        "    while retries < max_retries:\n",
        "        try:\n",
        "            message = client.messages.create(\n",
        "                model=\"\",\n",
        "                max_tokens=1000,\n",
        "                temperature=0,\n",
        "                system=systemprompt,\n",
        "                messages=[\n",
        "                    {\n",
        "                        \"role\": \"user\",\n",
        "                        \"content\": [\n",
        "                            {\n",
        "                                \"type\": \"image\",\n",
        "                                \"source\": {\n",
        "                                    \"type\": \"base64\",\n",
        "                                    \"media_type\": \"image/jpeg\",\n",
        "                                    \"data\": base64_image\n",
        "                                }\n",
        "                            }\n",
        "                        ]\n",
        "                    }\n",
        "                ]\n",
        "            )\n",
        "            return message.content[0].text\n",
        "        except anthropic.APIError as e:\n",
        "            if e.status_code == 529 and \"overloaded\" in str(e):\n",
        "                retries += 1\n",
        "                # Exponential backoff with jitter\n",
        "                wait_time = 2**retries + random.uniform(0, 1)\n",
        "                print(f\"Request overloaded. Retrying in {wait_time:.2f} seconds...\")\n",
        "                time.sleep(wait_time)\n",
        "            else:\n",
        "                raise  # Re-raise other exceptions\n",
        "    raise Exception(f\"Failed to transcribe after {max_retries} retries due to server overload.\") # Raise exception if all retries fail"
      ],
      "metadata": {
        "id": "W4fx9KHhpqe0"
      },
      "execution_count": null,
      "outputs": []
    },
    {
      "cell_type": "code",
      "source": [
        "import glob"
      ],
      "metadata": {
        "id": "XlFFi1vPJwS-"
      },
      "execution_count": null,
      "outputs": []
    },
    {
      "cell_type": "code",
      "source": [
        "image_paths = glob.glob(\"path to folder of images\")"
      ],
      "metadata": {
        "id": "8NYo9MEsJ1L2"
      },
      "execution_count": null,
      "outputs": []
    },
    {
      "cell_type": "code",
      "source": [
        "import pandas as pd\n",
        "transcribelist=[]\n",
        "firstimage=90\n",
        "lastimage=100\n",
        "for path in image_paths[firstimage:lastimage]:\n",
        "  try:\n",
        "    transtupp=(path,transcribeAndrae(encode_image(path)))\n",
        "    transcribelist.append(transtupp)\n",
        "    print(path)\n",
        "  except Exception as e:\n",
        "    print(e)\n",
        "    print(\"Failure\")\n",
        "    transtupp=(path, \"Failure\")\n",
        "    transcribelist.append(transtupp)\n",
        "transcrdf=pd.DataFrame(transcribelist,columns=[\"image\",\"transcript\"])\n",
        "transcrdf.to_csv(\"path to where the transcript should be stored\"+str(firstimage)+\"-\"+str(lastimage)+\".csv\")"
      ],
      "metadata": {
        "id": "_XCCCJA193i3"
      },
      "execution_count": null,
      "outputs": []
    },
    {
      "cell_type": "code",
      "source": [
        "# prompt: read the csv as dataframes and merge\n",
        "\n",
        "import pandas as pd\n",
        "import glob\n",
        "\n",
        "# Assuming kapcsvpaths is defined as in your original code\n",
        "kapcsvpaths = glob.glob(\"path to where tanscripts are stored\")\n",
        "\n",
        "# Initialize an empty list to store dataframes\n",
        "dfs = []\n",
        "\n",
        "# Iterate through the CSV files\n",
        "for file in kapcsvpaths:\n",
        "    try:\n",
        "        # Read each CSV file into a pandas DataFrame\n",
        "        df = pd.read_csv(file)\n",
        "        # Append the DataFrame to the list\n",
        "        dfs.append(df)\n",
        "        print(f\"Successfully read: {file}\")\n",
        "    except Exception as e:\n",
        "        print(f\"Error reading {file}: {e}\")\n",
        "\n",
        "# Concatenate all dataframes in the list into a single dataframe\n",
        "if dfs:  # Check if the list of DataFrames is not empty\n",
        "  merged_df = pd.concat(dfs, ignore_index=True)\n",
        "  # Save the merged DataFrame to a new CSV file\n",
        "  merged_df.to_csv(\"/content/drive/MyDrive/Colab Notebooks/Till andra/Stefan Arvidsson/merged.csv\", index=False)\n",
        "  print(\"Merged CSV files successfully!\")\n",
        "else:\n",
        "    print(\"No CSV files found or all files encountered errors during reading.\")"
      ],
      "metadata": {
        "id": "2QZCR_ngyiAs"
      },
      "execution_count": null,
      "outputs": []
    },
    {
      "cell_type": "markdown",
      "source": [
        "## Fix the failures"
      ],
      "metadata": {
        "id": "ZZKKPOsGboG9"
      }
    },
    {
      "cell_type": "code",
      "source": [
        "failedtrans= []\n",
        "failed=merged_df[merged_df[\"transcript\"]==\"Misslyckas\"].index.to_list()"
      ],
      "metadata": {
        "id": "fmRR4rfPgEfz"
      },
      "execution_count": null,
      "outputs": []
    },
    {
      "cell_type": "code",
      "source": [
        "failed"
      ],
      "metadata": {
        "id": "NFPQuRzVgNP9"
      },
      "execution_count": null,
      "outputs": []
    },
    {
      "cell_type": "code",
      "source": [
        "\n",
        "for path in failed:\n",
        "  try:\n",
        "    transtupp=(path,transcribeAndrae(encode_image(path)))\n",
        "    failedtrans.append(transtupp)\n",
        "    print(path)\n",
        "  except Exception as e:\n",
        "    print(e)\n"
      ],
      "metadata": {
        "id": "d6s6eyoRbrrn"
      },
      "execution_count": null,
      "outputs": []
    },
    {
      "cell_type": "code",
      "source": [
        "correctdf=pd.DataFrame(failedtrans,columns=[\"image\",\"transcript\"])"
      ],
      "metadata": {
        "id": "vq-D7pvuelwL"
      },
      "execution_count": null,
      "outputs": []
    },
    {
      "cell_type": "code",
      "source": [
        "correctdf.drop_duplicates(subset=\"image\",inplace=True)"
      ],
      "metadata": {
        "id": "cb7n_7n8e3d9"
      },
      "execution_count": null,
      "outputs": []
    },
    {
      "cell_type": "code",
      "source": [
        "correctdf"
      ],
      "metadata": {
        "id": "k_5iFKlefgrr"
      },
      "execution_count": null,
      "outputs": []
    },
    {
      "cell_type": "code",
      "source": [
        "correctdf.set_index('image', inplace=True)"
      ],
      "metadata": {
        "id": "ztkY2N2EfnPS"
      },
      "execution_count": null,
      "outputs": []
    },
    {
      "cell_type": "code",
      "source": [
        "# Update df1 with df2\n",
        "merged_df.update(correctdf)"
      ],
      "metadata": {
        "id": "qSjMsMO4f6Vn"
      },
      "execution_count": null,
      "outputs": []
    },
    {
      "cell_type": "code",
      "source": [
        "merged_df.to_csv(\"path to where the merged transcripts should be saved\" + merged.csv\")"
      ],
      "metadata": {
        "id": "aUUERoZMiMj9"
      },
      "execution_count": null,
      "outputs": []
    }
  ]
}